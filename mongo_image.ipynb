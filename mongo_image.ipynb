{
 "cells": [
  {
   "cell_type": "code",
   "execution_count": 1,
   "id": "67a06171",
   "metadata": {},
   "outputs": [],
   "source": [
    "from PIL import Image, ImageFilter"
   ]
  },
  {
   "cell_type": "code",
   "execution_count": 2,
   "id": "10ed65a0",
   "metadata": {},
   "outputs": [
    {
     "data": {
      "text/plain": [
       "(560, 832)"
      ]
     },
     "execution_count": 2,
     "metadata": {},
     "output_type": "execute_result"
    }
   ],
   "source": [
    "im = Image.open('p33.jpg')\n",
    "im.size"
   ]
  },
  {
   "cell_type": "code",
   "execution_count": 7,
   "id": "171c0411",
   "metadata": {},
   "outputs": [],
   "source": [
    "im.save('p333.jpg')"
   ]
  },
  {
   "cell_type": "code",
   "execution_count": 8,
   "id": "c047169a",
   "metadata": {},
   "outputs": [],
   "source": [
    "im = Image.open('p33.jpg')\n",
    "size=(64,64)\n",
    "im.thumbnail(size)\n",
    "im.save('p33_thumb.jpg')"
   ]
  },
  {
   "cell_type": "code",
   "execution_count": 9,
   "id": "ad448677",
   "metadata": {},
   "outputs": [],
   "source": [
    "im = Image.open('p33.jpg')\n",
    "cropImage = im.crop((100,100,150,150))\n",
    "cropImage.save('p33_crop.jpg')"
   ]
  },
  {
   "cell_type": "code",
   "execution_count": 10,
   "id": "a1898208",
   "metadata": {},
   "outputs": [],
   "source": [
    "im = Image.open('p33.jpg')\n",
    "img2 = im.resize((500,500))\n",
    "img2.save('p33-500.jpg')"
   ]
  },
  {
   "cell_type": "code",
   "execution_count": 12,
   "id": "c5171fde",
   "metadata": {},
   "outputs": [],
   "source": [
    "img3 = im.rotate(90)\n",
    "img3.save('p33_rotate.jpg')"
   ]
  },
  {
   "cell_type": "code",
   "execution_count": 13,
   "id": "63af8919",
   "metadata": {},
   "outputs": [],
   "source": [
    "im = Image.open('p33.jpg')\n",
    "blurImage = im.filter(ImageFilter.BLUR)\n",
    "blurImage.save('p33_blur.jpg')"
   ]
  },
  {
   "cell_type": "code",
   "execution_count": null,
   "id": "0641f613",
   "metadata": {},
   "outputs": [],
   "source": []
  }
 ],
 "metadata": {
  "kernelspec": {
   "display_name": "Python 3",
   "language": "python",
   "name": "python3"
  },
  "language_info": {
   "codemirror_mode": {
    "name": "ipython",
    "version": 3
   },
   "file_extension": ".py",
   "mimetype": "text/x-python",
   "name": "python",
   "nbconvert_exporter": "python",
   "pygments_lexer": "ipython3",
   "version": "3.8.8"
  }
 },
 "nbformat": 4,
 "nbformat_minor": 5
}
