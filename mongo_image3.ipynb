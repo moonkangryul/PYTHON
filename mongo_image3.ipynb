{
 "cells": [
  {
   "cell_type": "code",
   "execution_count": 12,
   "id": "c0992af0",
   "metadata": {},
   "outputs": [],
   "source": [
    "from pymongo import MongoClient\n",
    "import urllib.request\n",
    "from io import BytesIO\n",
    "from PIL import Image\n",
    "from gridfs import GridFS"
   ]
  },
  {
   "cell_type": "code",
   "execution_count": 13,
   "id": "fadf86b3",
   "metadata": {},
   "outputs": [],
   "source": [
    "db=MongoClient().python_test\n",
    "fs=GridFS(db)"
   ]
  },
  {
   "cell_type": "code",
   "execution_count": 21,
   "id": "33d71d3f",
   "metadata": {},
   "outputs": [
    {
     "data": {
      "text/plain": [
       "<gridfs.grid_file.GridOut at 0x170dbc26070>"
      ]
     },
     "execution_count": 21,
     "metadata": {},
     "output_type": "execute_result"
    }
   ],
   "source": [
    "f=fs.get_last_version(filename=db.fs.files.find()[1]['filename'])\n",
    "f\n"
   ]
  },
  {
   "cell_type": "code",
   "execution_count": 22,
   "id": "013d999c",
   "metadata": {},
   "outputs": [],
   "source": [
    "data = f.read()"
   ]
  },
  {
   "cell_type": "code",
   "execution_count": 23,
   "id": "e141f61a",
   "metadata": {},
   "outputs": [],
   "source": [
    "real_img = Image.open(BytesIO(data))\n",
    "real_img.show()"
   ]
  },
  {
   "cell_type": "code",
   "execution_count": null,
   "id": "dd45fb85",
   "metadata": {},
   "outputs": [],
   "source": []
  }
 ],
 "metadata": {
  "kernelspec": {
   "display_name": "Python 3",
   "language": "python",
   "name": "python3"
  },
  "language_info": {
   "codemirror_mode": {
    "name": "ipython",
    "version": 3
   },
   "file_extension": ".py",
   "mimetype": "text/x-python",
   "name": "python",
   "nbconvert_exporter": "python",
   "pygments_lexer": "ipython3",
   "version": "3.8.8"
  }
 },
 "nbformat": 4,
 "nbformat_minor": 5
}
