{
 "cells": [
  {
   "cell_type": "code",
   "execution_count": 1,
   "id": "37b4501c-d187-422e-a028-86a9eaec22e8",
   "metadata": {},
   "outputs": [],
   "source": [
    "import numpy as np\n",
    "x_data=np.array([2,4,6,8,10,12,14,16,18,20]).reshape(10,1)\n",
    "t_data=np.array([0,0,0,0,0,0,1,1,1,1]).reshape(10,1)\n",
    "\n",
    "x_data=np.array([[2,4],[4,11],[6,6],[8,5],[10,7],[12,16],[14,8],[16,3],[18,7]])\n",
    "t_data=np.array([0,0,0,0,1,1,1,1,1]).reshape(9,1)"
   ]
  },
  {
   "cell_type": "code",
   "execution_count": 2,
   "id": "387c1094-f5bf-42c2-b237-eedb316af423",
   "metadata": {},
   "outputs": [
    {
     "name": "stdout",
     "output_type": "stream",
     "text": [
      "[[ 2  4]\n",
      " [ 4 11]\n",
      " [ 6  6]\n",
      " [ 8  5]\n",
      " [10  7]\n",
      " [12 16]\n",
      " [14  8]\n",
      " [16  3]\n",
      " [18  7]]\n",
      "[[0]\n",
      " [0]\n",
      " [0]\n",
      " [0]\n",
      " [1]\n",
      " [1]\n",
      " [1]\n",
      " [1]\n",
      " [1]]\n"
     ]
    }
   ],
   "source": [
    "print(x_data)\n",
    "print(t_data)"
   ]
  },
  {
   "cell_type": "code",
   "execution_count": 3,
   "id": "e989bb3f-9289-4da0-bb30-40f21dd96789",
   "metadata": {},
   "outputs": [
    {
     "name": "stdout",
     "output_type": "stream",
     "text": [
      "[[0.08976283]\n",
      " [0.23578154]] [0.61784151]\n"
     ]
    }
   ],
   "source": [
    "w=np.random.rand(2,1)\n",
    "b=np.random.rand(1)\n",
    "print(w,b)"
   ]
  },
  {
   "cell_type": "code",
   "execution_count": 4,
   "id": "9582708f-d8d3-4c8a-97d8-b8ce0c8fcc9d",
   "metadata": {},
   "outputs": [],
   "source": [
    "def sigmoid(x):\n",
    "    return 1/(1+np.exp(-x))"
   ]
  },
  {
   "cell_type": "code",
   "execution_count": 5,
   "id": "96e3fd05-2a72-444f-9289-e4b79e19e661",
   "metadata": {},
   "outputs": [],
   "source": [
    "def loss_func(x,t):\n",
    "    delta=1e-7 #10의마이너스 7승?\n",
    "    z=np.dot(x,w)+b\n",
    "    y=sigmoid(z)\n",
    "    return -np.sum(t*np.log(y+delta)+(1-t)*np.log((1-y)+delta))"
   ]
  },
  {
   "cell_type": "code",
   "execution_count": 6,
   "id": "1d111c6e-4958-40b5-9af8-fa9c25b6a8c0",
   "metadata": {},
   "outputs": [],
   "source": [
    "def numerical_derivative(f, x): # 수치미분 debug version\n",
    "    delta_x = 1e-4 \n",
    "    grad = np.zeros_like(x) \n",
    "    it = np.nditer(x, flags=['multi_index'], op_flags=['readwrite'])\n",
    "#     print(\"debug 1. x = \", x)\n",
    "#     print(\"debug 2. grad = \", grad)\n",
    "#     print(\"=========================================================\")\n",
    "    while not it.finished:\n",
    "        idx = it.multi_index\n",
    "\n",
    "        #print(\"debug 3. idx=\", idx, \", x[idx]= \", x[idx])\n",
    "        tmp_val = x[idx]\n",
    "        x[idx] = float(tmp_val) + delta_x\n",
    "        fx1 = f(x) # f(x+delta_x)\n",
    "        x[idx] = tmp_val - delta_x\n",
    "        fx2 = f(x) # f(x-delta_x)\n",
    "        grad[idx] = (fx1 - fx2) / (2*delta_x)\n",
    "#         print(\"debug 4. grad[idx] = \", grad[idx])\n",
    "#         print(\"debug 5. grad = \", grad)\n",
    "#         print(\"+++++++++++++++++++++++++++++++++++++++++++\")\n",
    "\n",
    "\n",
    "        x[idx] = tmp_val\n",
    "        it.iternext() \n",
    "    return grad"
   ]
  },
  {
   "cell_type": "code",
   "execution_count": 7,
   "id": "9a5c4df7-42f3-4178-9414-b969d36663f7",
   "metadata": {},
   "outputs": [],
   "source": [
    "def predict(x):\n",
    "    z=np.dot(x,w)+b\n",
    "    y=sigmoid(z)\n",
    "    \n",
    "    if y>0.5:\n",
    "        result=1\n",
    "    else:\n",
    "        result=0\n",
    "    return y,result"
   ]
  },
  {
   "cell_type": "code",
   "execution_count": 15,
   "id": "03a7ae71-5b35-4243-969d-0dbe9fdf8b66",
   "metadata": {},
   "outputs": [
    {
     "name": "stdout",
     "output_type": "stream",
     "text": [
      "Initial error value: 1.5095594269755295 Initial w= [[ 0.55606581]\n",
      " [-0.01781216]] Initial b= [-4.52207548]\n",
      "step= 0 error value= 1.509550319979951 w= [[ 0.55606812]\n",
      " [-0.01781118]] b= [-4.52210555]\n",
      "step= 400 error value= 1.5059198770555156 w= [[ 0.55699214]\n",
      " [-0.01741901]] b= [-4.53411481]\n",
      "step= 800 error value= 1.5023139106599825 w= [[ 0.55791378]\n",
      " [-0.01702863]] b= [-4.54608347]\n",
      "step= 1200 error value= 1.4987321651127397 w= [[ 0.55883306]\n",
      " [-0.01664001]] b= [-4.55801183]\n",
      "step= 1600 error value= 1.4951743882686868 w= [[ 0.55974998]\n",
      " [-0.01625313]] b= [-4.56990017]\n",
      "step= 2000 error value= 1.4916403314578337 w= [[ 0.56066457]\n",
      " [-0.015868  ]] b= [-4.58174876]\n",
      "step= 2400 error value= 1.4881297494261083 w= [[ 0.56157683]\n",
      " [-0.01548458]] b= [-4.5935579]\n",
      "step= 2800 error value= 1.4846424002773662 w= [[ 0.56248677]\n",
      " [-0.01510286]] b= [-4.60532786]\n",
      "step= 3200 error value= 1.4811780454165573 w= [[ 0.56339441]\n",
      " [-0.01472283]] b= [-4.6170589]\n",
      "step= 3600 error value= 1.477736449494063 w= [[ 0.56429977]\n",
      " [-0.01434447]] b= [-4.62875131]\n",
      "step= 4000 error value= 1.4743173803510894 w= [[ 0.56520285]\n",
      " [-0.01396778]] b= [-4.64040535]\n",
      "step= 4400 error value= 1.4709206089662155 w= [[ 0.56610366]\n",
      " [-0.01359272]] b= [-4.65202129]\n",
      "step= 4800 error value= 1.4675459094029442 w= [[ 0.56700222]\n",
      " [-0.0132193 ]] b= [-4.66359938]\n",
      "step= 5200 error value= 1.4641930587583236 w= [[ 0.56789854]\n",
      " [-0.01284749]] b= [-4.67513989]\n",
      "step= 5600 error value= 1.460861837112591 w= [[ 0.56879264]\n",
      " [-0.01247728]] b= [-4.68664308]\n",
      "step= 6000 error value= 1.4575520274797718 w= [[ 0.56968452]\n",
      " [-0.01210866]] b= [-4.6981092]\n",
      "step= 6400 error value= 1.4542634157592949 w= [[ 0.57057419]\n",
      " [-0.01174161]] b= [-4.70953851]\n",
      "step= 6800 error value= 1.4509957906885071 w= [[ 0.57146167]\n",
      " [-0.01137613]] b= [-4.72093124]\n",
      "step= 7200 error value= 1.447748943796153 w= [[ 0.57234697]\n",
      " [-0.01101218]] b= [-4.73228766]\n",
      "step= 7600 error value= 1.4445226693567408 w= [[ 0.5732301 ]\n",
      " [-0.01064978]] b= [-4.74360801]\n",
      "step= 8000 error value= 1.4413167643457923 w= [[ 0.57411107]\n",
      " [-0.01028889]] b= [-4.75489253]\n",
      "step= 8400 error value= 1.4381310283959647 w= [[ 0.5749899 ]\n",
      " [-0.00992951]] b= [-4.76614145]\n",
      "step= 8800 error value= 1.4349652637540142 w= [[ 0.57586659]\n",
      " [-0.00957163]] b= [-4.77735502]\n",
      "step= 9200 error value= 1.4318192752385932 w= [[ 0.57674115]\n",
      " [-0.00921522]] b= [-4.78853348]\n",
      "step= 9600 error value= 1.4286928701988495 w= [[ 0.57761361]\n",
      " [-0.00886029]] b= [-4.79967705]\n",
      "step= 10000 error value= 1.4255858584738033 w= [[ 0.57848396]\n",
      " [-0.00850682]] b= [-4.81078597]\n",
      "step= 10400 error value= 1.4224980523525423 w= [[ 0.57935222]\n",
      " [-0.00815478]] b= [-4.82186046]\n",
      "step= 10800 error value= 1.4194292665351105 w= [[ 0.58021839]\n",
      " [-0.00780419]] b= [-4.83290076]\n",
      "step= 11200 error value= 1.416379318094204 w= [[ 0.5810825 ]\n",
      " [-0.00745501]] b= [-4.84390708]\n",
      "step= 11600 error value= 1.413348026437529 w= [[ 0.58194455]\n",
      " [-0.00710724]] b= [-4.85487965]\n",
      "step= 12000 error value= 1.410335213270905 w= [[ 0.58280455]\n",
      " [-0.00676087]] b= [-4.86581869]\n",
      "step= 12400 error value= 1.4073407025620575 w= [[ 0.58366251]\n",
      " [-0.00641589]] b= [-4.87672442]\n",
      "step= 12800 error value= 1.4043643205050746 w= [[ 0.58451844]\n",
      " [-0.00607228]] b= [-4.88759705]\n",
      "step= 13200 error value= 1.401405895485539 w= [[ 0.58537236]\n",
      " [-0.00573003]] b= [-4.8984368]\n",
      "step= 13600 error value= 1.3984652580462957 w= [[ 0.58622427]\n",
      " [-0.00538914]] b= [-4.90924388]\n",
      "step= 14000 error value= 1.3955422408538782 w= [[ 0.58707418]\n",
      " [-0.00504958]] b= [-4.92001849]\n",
      "step= 14400 error value= 1.3926366786655258 w= [[ 0.58792211]\n",
      " [-0.00471136]] b= [-4.93076085]\n",
      "step= 14800 error value= 1.389748408296833 w= [[ 0.58876805]\n",
      " [-0.00437446]] b= [-4.94147117]\n",
      "step= 15200 error value= 1.3868772685899817 w= [[ 0.58961203]\n",
      " [-0.00403886]] b= [-4.95214964]\n",
      "step= 15600 error value= 1.3840231003825583 w= [[ 0.59045406]\n",
      " [-0.00370457]] b= [-4.96279647]\n",
      "step= 16000 error value= 1.3811857464769521 w= [[ 0.59129413]\n",
      " [-0.00337156]] b= [-4.97341186]\n",
      "step= 16400 error value= 1.3783650516102854 w= [[ 0.59213227]\n",
      " [-0.00303983]] b= [-4.98399601]\n",
      "step= 16800 error value= 1.3755608624249192 w= [[ 0.59296848]\n",
      " [-0.00270936]] b= [-4.99454911]\n",
      "step= 17200 error value= 1.3727730274394685 w= [[ 0.59380277]\n",
      " [-0.00238015]] b= [-5.00507136]\n",
      "step= 17600 error value= 1.3700013970203693 w= [[ 0.59463515]\n",
      " [-0.00205219]] b= [-5.01556295]\n",
      "step= 18000 error value= 1.3672458233539293 w= [[ 0.59546563]\n",
      " [-0.00172547]] b= [-5.02602408]\n",
      "step= 18400 error value= 1.3645061604189035 w= [[ 0.59629422]\n",
      " [-0.00139997]] b= [-5.03645493]\n",
      "step= 18800 error value= 1.3617822639595438 w= [[ 0.59712094]\n",
      " [-0.0010757 ]] b= [-5.04685568]\n",
      "step= 19200 error value= 1.359073991459137 w= [[ 0.59794577]\n",
      " [-0.00075262]] b= [-5.05722654]\n",
      "step= 19600 error value= 1.356381202114041 w= [[ 5.98768750e-01]\n",
      " [-4.30752336e-04]] b= [-5.06756767]\n",
      "step= 20000 error value= 1.3537037568081172 w= [[ 5.99589872e-01]\n",
      " [-1.10069384e-04]] b= [-5.07787927]\n",
      "step= 20400 error value= 1.3510415180876885 w= [[6.00409149e-01]\n",
      " [2.09433735e-04]] b= [-5.08816152]\n",
      "step= 20800 error value= 1.348394350136887 w= [[6.01226591e-01]\n",
      " [5.27766215e-04]] b= [-5.09841458]\n",
      "step= 21200 error value= 1.3457621187534785 w= [[0.60204221]\n",
      " [0.00084494]] b= [-5.10863865]\n",
      "step= 21600 error value= 1.3431446913250675 w= [[0.602856  ]\n",
      " [0.00116096]] b= [-5.1188339]\n",
      "step= 22000 error value= 1.3405419368057516 w= [[0.60366799]\n",
      " [0.00147583]] b= [-5.1290005]\n",
      "step= 22400 error value= 1.3379537256931726 w= [[0.60447818]\n",
      " [0.00178957]] b= [-5.13913863]\n",
      "step= 22800 error value= 1.3353799300059799 w= [[0.60528657]\n",
      " [0.00210218]] b= [-5.14924845]\n",
      "step= 23200 error value= 1.3328204232616525 w= [[0.60609318]\n",
      " [0.00241368]] b= [-5.15933014]\n",
      "step= 23600 error value= 1.3302750804547445 w= [[0.60689802]\n",
      " [0.00272407]] b= [-5.16938387]\n",
      "step= 24000 error value= 1.3277437780354848 w= [[0.60770109]\n",
      " [0.00303336]] b= [-5.1794098]\n",
      "step= 24400 error value= 1.325226393888751 w= [[0.6085024 ]\n",
      " [0.00334155]] b= [-5.1894081]\n",
      "step= 24800 error value= 1.322722807313399 w= [[0.60930196]\n",
      " [0.00364866]] b= [-5.19937893]\n",
      "step= 25200 error value= 1.3202328990019587 w= [[0.61009978]\n",
      " [0.0039547 ]] b= [-5.20932246]\n",
      "step= 25600 error value= 1.3177565510206701 w= [[0.61089587]\n",
      " [0.00425967]] b= [-5.21923885]\n",
      "step= 26000 error value= 1.315293646789857 w= [[0.61169023]\n",
      " [0.00456358]] b= [-5.22912825]\n",
      "step= 26400 error value= 1.312844071064633 w= [[0.61248288]\n",
      " [0.00486643]] b= [-5.23899083]\n",
      "step= 26800 error value= 1.310407709915945 w= [[0.61327381]\n",
      " [0.00516825]] b= [-5.24882675]\n",
      "step= 27200 error value= 1.307984450711937 w= [[0.61406305]\n",
      " [0.00546903]] b= [-5.25863615]\n",
      "step= 27600 error value= 1.3055741820996 w= [[0.61485059]\n",
      " [0.00576878]] b= [-5.26841919]\n",
      "step= 28000 error value= 1.3031767939867855 w= [[0.61563644]\n",
      " [0.00606751]] b= [-5.27817604]\n",
      "step= 28400 error value= 1.3007921775244613 w= [[0.61642062]\n",
      " [0.00636522]] b= [-5.28790683]\n",
      "step= 28800 error value= 1.2984202250892927 w= [[0.61720313]\n",
      " [0.00666194]] b= [-5.29761172]\n",
      "step= 29200 error value= 1.296060830266529 w= [[0.61798398]\n",
      " [0.00695765]] b= [-5.30729086]\n",
      "step= 29600 error value= 1.2937138878331496 w= [[0.61876317]\n",
      " [0.00725237]] b= [-5.3169444]\n",
      "step= 30000 error value= 1.291379293741294 w= [[0.61954071]\n",
      " [0.00754612]] b= [-5.32657248]\n"
     ]
    }
   ],
   "source": [
    "learning_rate=1e-4\n",
    "\n",
    "f=lambda x: loss_func(x_data, t_data)\n",
    "    \n",
    "print(\"Initial error value:\", loss_func(x_data, t_data), \"Initial w=\",w,\"Initial b=\",b)\n",
    "\n",
    "for step in range(30001):\n",
    "    w-=learning_rate * numerical_derivative(f,w)\n",
    "    b-=learning_rate * numerical_derivative(f,b)\n",
    "    \n",
    "    if step%400==0:\n",
    "        print(\"step=\", step, \"error value=\", loss_func(x_data, t_data), \"w=\",w,\"b=\",b)"
   ]
  },
  {
   "cell_type": "code",
   "execution_count": 12,
   "id": "2b8d3d06-1440-43d8-98c7-ec3e55effa34",
   "metadata": {},
   "outputs": [],
   "source": [
    "# (real_val, logical_val)=predict(13)\n",
    "# print(real_val, logical_val)"
   ]
  },
  {
   "cell_type": "code",
   "execution_count": 17,
   "id": "d317743d-cc8d-4438-826f-c257ac96acb1",
   "metadata": {},
   "outputs": [
    {
     "data": {
      "text/plain": [
       "(array([0.42683267]), 0)"
      ]
     },
     "execution_count": 17,
     "metadata": {},
     "output_type": "execute_result"
    }
   ],
   "source": [
    "test_data=np.array([8,10])\n",
    "predict(test_data)"
   ]
  },
  {
   "cell_type": "code",
   "execution_count": null,
   "id": "0790b79f-eccd-489f-ac01-3164fff4a3df",
   "metadata": {},
   "outputs": [],
   "source": []
  }
 ],
 "metadata": {
  "kernelspec": {
   "display_name": "Python 3",
   "language": "python",
   "name": "python3"
  },
  "language_info": {
   "codemirror_mode": {
    "name": "ipython",
    "version": 3
   },
   "file_extension": ".py",
   "mimetype": "text/x-python",
   "name": "python",
   "nbconvert_exporter": "python",
   "pygments_lexer": "ipython3",
   "version": "3.8.8"
  }
 },
 "nbformat": 4,
 "nbformat_minor": 5
}
