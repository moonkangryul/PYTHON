{
 "cells": [
  {
   "cell_type": "code",
   "execution_count": 1,
   "id": "7e6f3cfc-902d-46f1-96c8-45c625391b67",
   "metadata": {},
   "outputs": [
    {
     "data": {
      "text/plain": [
       "20"
      ]
     },
     "execution_count": 1,
     "metadata": {},
     "output_type": "execute_result"
    }
   ],
   "source": [
    "a=10\n",
    "b=10\n",
    "a+b"
   ]
  },
  {
   "cell_type": "code",
   "execution_count": 2,
   "id": "8b06e0c8-3e16-4552-bace-bb254e237181",
   "metadata": {},
   "outputs": [],
   "source": [
    "def my_func1(x):\n",
    "    return x**2"
   ]
  },
  {
   "cell_type": "code",
   "execution_count": 3,
   "id": "b72adc76-cfe7-44e2-bcf7-f57b6ece695c",
   "metadata": {
    "tags": []
   },
   "outputs": [],
   "source": [
    "def numerical_drivative(f,x):\n",
    "    delta_x=1e-4\n",
    "    return (f(x+delta_x)-f(x-delta_x))/(2*delta_x)"
   ]
  },
  {
   "cell_type": "code",
   "execution_count": 4,
   "id": "2f36a355-c37b-40da-8e3b-63d872fd6b67",
   "metadata": {},
   "outputs": [
    {
     "name": "stdout",
     "output_type": "stream",
     "text": [
      "result= 6.000000000012662\n"
     ]
    }
   ],
   "source": [
    "result=numerical_drivative(my_func1,3)\n",
    "print(\"result=\",result)"
   ]
  },
  {
   "cell_type": "code",
   "execution_count": 5,
   "id": "2adf2778-066c-49cf-8ce6-28ade591e565",
   "metadata": {},
   "outputs": [],
   "source": [
    "import numpy as np"
   ]
  },
  {
   "cell_type": "code",
   "execution_count": 6,
   "id": "1514e8f1-6655-4a69-a2ee-19dbc7359451",
   "metadata": {},
   "outputs": [],
   "source": [
    "def my_func2(x):\n",
    "    return 3*x*(np.exp(x))"
   ]
  },
  {
   "cell_type": "code",
   "execution_count": 7,
   "id": "8f436096-70bf-4965-8054-face6a605533",
   "metadata": {},
   "outputs": [
    {
     "name": "stdout",
     "output_type": "stream",
     "text": [
      "result= 66.50150507518049\n"
     ]
    }
   ],
   "source": [
    "result = numerical_drivative(my_func2,2)\n",
    "print(\"result=\",result)"
   ]
  },
  {
   "cell_type": "code",
   "execution_count": 8,
   "id": "e7c371bd-08f1-4d4a-a401-d8e0606a22ce",
   "metadata": {},
   "outputs": [],
   "source": [
    "def numerical_derivative(f, x): \n",
    "    delta_x = 1e-4 \n",
    "    grad = np.zeros_like(x) \n",
    "    \n",
    "    it = np.nditer(x, flags=['multi_index'], op_flags=['readwrite'])\n",
    "    \n",
    "    while not it.finished:\n",
    "        idx = it.multi_index\n",
    "        \n",
    "        tmp_val = x[idx]\n",
    "        x[idx] = float(tmp_val) + delta_x\n",
    "        fx1 = f(x) # f(x+delta_x)\n",
    "        \n",
    "        x[idx] = tmp_val - delta_x\n",
    "        fx2 = f(x) # f(x-delta_x)\n",
    "        grad[idx] = (fx1 - fx2) / (2*delta_x)\n",
    "        \n",
    "        print(grad[idx])\n",
    "        print(grad)\n",
    "        print(\"=\"*20)\n",
    "        \n",
    "        x[idx] = tmp_val\n",
    "        it.iternext() \n",
    "    return grad"
   ]
  },
  {
   "cell_type": "code",
   "execution_count": 9,
   "id": "b54071e1-66ab-4c37-b085-4c28d1be6b44",
   "metadata": {},
   "outputs": [],
   "source": [
    "def func2(input_obj):\n",
    "    x=input_obj[0]\n",
    "    y=input_obj[1]\n",
    "    return (2*x+3*x*y+np.power(y,3))"
   ]
  },
  {
   "cell_type": "code",
   "execution_count": 12,
   "id": "bb61228a-492c-4e0c-b330-fbbaf7b868d9",
   "metadata": {
    "tags": []
   },
   "outputs": [
    {
     "name": "stdout",
     "output_type": "stream",
     "text": [
      "7.999999999999119\n",
      "[8. 0.]\n",
      "====================\n",
      "21.000000010040765\n",
      "[ 8.         21.00000001]\n",
      "====================\n"
     ]
    },
    {
     "data": {
      "text/plain": [
       "array([ 8.        , 21.00000001])"
      ]
     },
     "execution_count": 12,
     "metadata": {},
     "output_type": "execute_result"
    }
   ],
   "source": [
    "numerical_derivative(func2, np.array([3.0, 2.0]))"
   ]
  },
  {
   "cell_type": "raw",
   "id": "139e881f-0bfc-45af-aca7-a6d2b74a852b",
   "metadata": {},
   "source": []
  },
  {
   "cell_type": "code",
   "execution_count": null,
   "id": "1fd4a486-9b74-44b5-b170-96cbe0c40e33",
   "metadata": {},
   "outputs": [],
   "source": []
  },
  {
   "cell_type": "code",
   "execution_count": 16,
   "id": "b49e90b0-e598-43b2-bd7e-8f513d08fc02",
   "metadata": {},
   "outputs": [],
   "source": [
    "def func3(input_obj):\n",
    "    w=input_obj[0]\n",
    "    x=input_obj[1]\n",
    "    y=input_obj[2]\n",
    "    z=input_obj[3]\n",
    "    return (w*x+x*y*z+3*w+z*np.power(y,2))"
   ]
  },
  {
   "cell_type": "code",
   "execution_count": 17,
   "id": "50b37e4b-a8c3-4cb3-ad7c-98db85d8d801",
   "metadata": {},
   "outputs": [
    {
     "name": "stdout",
     "output_type": "stream",
     "text": [
      "5.000000000023874\n",
      "[5. 0. 0. 0.]\n",
      "====================\n",
      "15.000000000000568\n",
      "[ 5. 15.  0.  0.]\n",
      "====================\n",
      "31.999999999996476\n",
      "[ 5. 15. 32.  0.]\n",
      "====================\n",
      "15.000000000000568\n",
      "[ 5. 15. 32. 15.]\n",
      "====================\n"
     ]
    },
    {
     "data": {
      "text/plain": [
       "array([ 5., 15., 32., 15.])"
      ]
     },
     "execution_count": 17,
     "metadata": {},
     "output_type": "execute_result"
    }
   ],
   "source": [
    "numerical_derivative(func3, np.array([3.0, 2.0, 3.0, 4.0]))"
   ]
  },
  {
   "cell_type": "code",
   "execution_count": null,
   "id": "65334006-19bd-4277-9b3b-e88a727ce1b4",
   "metadata": {},
   "outputs": [],
   "source": []
  }
 ],
 "metadata": {
  "kernelspec": {
   "display_name": "Python 3",
   "language": "python",
   "name": "python3"
  },
  "language_info": {
   "codemirror_mode": {
    "name": "ipython",
    "version": 3
   },
   "file_extension": ".py",
   "mimetype": "text/x-python",
   "name": "python",
   "nbconvert_exporter": "python",
   "pygments_lexer": "ipython3",
   "version": "3.8.8"
  }
 },
 "nbformat": 4,
 "nbformat_minor": 5
}
