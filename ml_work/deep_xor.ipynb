{
 "cells": [
  {
   "cell_type": "code",
   "execution_count": 1,
   "id": "7518ee8b-bd81-442c-8bf6-524df626d2ec",
   "metadata": {},
   "outputs": [],
   "source": [
    "import numpy as np"
   ]
  },
  {
   "cell_type": "code",
   "execution_count": 2,
   "id": "6ad3c355-415c-4e65-82af-b3feaa923de3",
   "metadata": {},
   "outputs": [],
   "source": [
    "def sigmoid(x):\n",
    "    return 1/(1+np.exp(-x))"
   ]
  },
  {
   "cell_type": "code",
   "execution_count": 3,
   "id": "174e931e-c01f-4e1d-8977-01da21b43a99",
   "metadata": {},
   "outputs": [],
   "source": [
    "def numerical_derivative(f, x): # 수치미분 debug version\n",
    "    delta_x = 1e-4 \n",
    "    grad = np.zeros_like(x) \n",
    "    it = np.nditer(x, flags=['multi_index'], op_flags=['readwrite'])\n",
    "#     print(\"debug 1. x = \", x)\n",
    "#     print(\"debug 2. grad = \", grad)\n",
    "#     print(\"=========================================================\")\n",
    "    while not it.finished:\n",
    "        idx = it.multi_index\n",
    "\n",
    "        #print(\"debug 3. idx=\", idx, \", x[idx]= \", x[idx])\n",
    "        tmp_val = x[idx]\n",
    "        x[idx] = float(tmp_val) + delta_x\n",
    "        fx1 = f(x) # f(x+delta_x)\n",
    "        x[idx] = tmp_val - delta_x\n",
    "        fx2 = f(x) # f(x-delta_x)\n",
    "        grad[idx] = (fx1 - fx2) / (2*delta_x)\n",
    "#         print(\"debug 4. grad[idx] = \", grad[idx])\n",
    "#         print(\"debug 5. grad = \", grad)\n",
    "#         print(\"+++++++++++++++++++++++++++++++++++++++++++\")\n",
    "\n",
    "\n",
    "        x[idx] = tmp_val\n",
    "        it.iternext() \n",
    "    return grad"
   ]
  },
  {
   "cell_type": "code",
   "execution_count": 21,
   "id": "87921eb1-fa2a-454c-8476-be9bf9e7ddfd",
   "metadata": {},
   "outputs": [],
   "source": [
    "class LogicGate:\n",
    "    def __init__(self, gate_name,xdata,tdata):\n",
    "        self.name=gate_name\n",
    "        self.__xdata = xdata\n",
    "        self.__tdata = tdata\n",
    "        \n",
    "        self.__xdata = xdata.reshape(4,2)\n",
    "        self.__tdata = tdata.reshape(4,1)\n",
    "        \n",
    "        self.__w2=np.random.rand(2,6)\n",
    "        self.__b2=np.random.rand(1)\n",
    "        \n",
    "        self.__w3=np.random.rand(6,1)\n",
    "        self.__b3=np.random.rand(1)\n",
    "        \n",
    "        self.__learning_rate=1e-2\n",
    "        \n",
    "    def feed_forward(self):\n",
    "        delta = 1e-7\n",
    "        \n",
    "        z2=np.dot(self.__xdata,self.__w2)+self.__b2\n",
    "        a2=sigmoid(z2)\n",
    "        \n",
    "        z3=np.dot(a2,self.__w3)+self.__b3\n",
    "        y=sigmoid(z3)\n",
    "    \n",
    "        \n",
    "        return -np.sum(self.__tdata*np.log(y+delta)+(1-self.__tdata)*np.log((1-y)+delta))\n",
    "     \n",
    "    def train(self):\n",
    "        f=lambda x:self.feed_forward()\n",
    "        print(\"Initial error value:\", self.feed_forward())\n",
    "\n",
    "        for step in range(10001):\n",
    "            self.__w2-=self.__learning_rate * numerical_derivative(f,self.__w2)\n",
    "            self.__b2-=self.__learning_rate * numerical_derivative(f,self.__b2)\n",
    "\n",
    "            self.__w3-=self.__learning_rate * numerical_derivative(f,self.__w3)\n",
    "            self.__b3-=self.__learning_rate * numerical_derivative(f,self.__b3)\n",
    "\n",
    "            if step%400==0:\n",
    "                print(\"step=\", step, \"error value=\", self.feed_forward())\n",
    "    \n",
    "    def predict(self, xdata):\n",
    "        z2=np.dot(xdata,self.__w2)+self.__b2\n",
    "        a2=sigmoid(z2)\n",
    "        \n",
    "        z3=np.dot(a2,self.__w3)+self.__b3\n",
    "        y=sigmoid(z3)\n",
    "\n",
    "        if y>=0.5:\n",
    "            result=1\n",
    "        else:\n",
    "            result=0\n",
    "        return y,result"
   ]
  },
  {
   "cell_type": "code",
   "execution_count": 22,
   "id": "882b4d20-d570-4482-a0fa-369bcca309af",
   "metadata": {},
   "outputs": [
    {
     "name": "stdout",
     "output_type": "stream",
     "text": [
      "Initial error value: 7.594021631016206\n",
      "step= 0 error value= 7.2895102788392645\n",
      "step= 400 error value= 2.3108224132842854\n",
      "step= 800 error value= 2.2543361591121194\n",
      "step= 1200 error value= 2.1917861960032052\n",
      "step= 1600 error value= 2.066019198518186\n",
      "step= 2000 error value= 1.84431197519651\n",
      "step= 2400 error value= 1.641414275900242\n",
      "step= 2800 error value= 1.474406395398066\n",
      "step= 3200 error value= 1.32998270940643\n",
      "step= 3600 error value= 1.2013058593522459\n",
      "step= 4000 error value= 1.0791005140855772\n",
      "step= 4400 error value= 0.9559845539255862\n",
      "step= 4800 error value= 0.830784273403167\n",
      "step= 5200 error value= 0.7082609874470978\n",
      "step= 5600 error value= 0.5954230572726549\n",
      "step= 6000 error value= 0.4974627827594318\n",
      "step= 6400 error value= 0.4160848256841045\n",
      "step= 6800 error value= 0.35024111914498146\n",
      "step= 7200 error value= 0.29758500783176456\n",
      "step= 7600 error value= 0.2555384450800504\n",
      "step= 8000 error value= 0.22180358740145079\n",
      "step= 8400 error value= 0.19451397416521873\n",
      "step= 8800 error value= 0.1722191354717465\n",
      "step= 9200 error value= 0.15381383259983455\n",
      "step= 9600 error value= 0.13846116854861315\n",
      "step= 10000 error value= 0.1255266673778702\n"
     ]
    }
   ],
   "source": [
    "xdata=np.array([[0,0],[0,1],[1,0],[1,1]])\n",
    "tdata=np.array([0,0,0,1])\n",
    "\n",
    "and_obj=LogicGate(\"AND\",xdata,tdata)\n",
    "and_obj.train()"
   ]
  },
  {
   "cell_type": "code",
   "execution_count": 23,
   "id": "b46ce8b9-134a-4265-93b0-3fea7b32ede4",
   "metadata": {},
   "outputs": [
    {
     "name": "stdout",
     "output_type": "stream",
     "text": [
      "(array([0.00507271]), 0)\n",
      "(array([0.02708149]), 0)\n",
      "(array([0.03868439]), 0)\n",
      "(array([0.94787371]), 1)\n"
     ]
    }
   ],
   "source": [
    "test_data = np.array([[0,0],[0,1],[1,0],[1,1]])\n",
    "\n",
    "for data in test_data:\n",
    "    print(and_obj.predict(data))\n"
   ]
  },
  {
   "cell_type": "code",
   "execution_count": null,
   "id": "6ad1f5b2-5659-4ef5-a71d-ac3dffd82f69",
   "metadata": {},
   "outputs": [],
   "source": []
  }
 ],
 "metadata": {
  "kernelspec": {
   "display_name": "Python 3",
   "language": "python",
   "name": "python3"
  },
  "language_info": {
   "codemirror_mode": {
    "name": "ipython",
    "version": 3
   },
   "file_extension": ".py",
   "mimetype": "text/x-python",
   "name": "python",
   "nbconvert_exporter": "python",
   "pygments_lexer": "ipython3",
   "version": "3.8.8"
  }
 },
 "nbformat": 4,
 "nbformat_minor": 5
}
